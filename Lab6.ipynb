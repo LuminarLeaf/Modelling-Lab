{
  "cells": [
    {
      "cell_type": "code",
      "execution_count": null,
      "metadata": {
        "collapsed": true,
        "id": "0A6puBUMT04A"
      },
      "outputs": [],
      "source": [
        "import numpy as np\n",
        "import matplotlib.pyplot as plt"
      ]
    },
    {
      "cell_type": "markdown",
      "metadata": {
        "id": "AFqRTy3jT04V"
      },
      "source": [
        "## Problem 1"
      ]
    },
    {
      "cell_type": "code",
      "execution_count": null,
      "metadata": {
        "colab": {
          "base_uri": "https://localhost:8080/"
        },
        "id": "xoi26lNzT04X",
        "outputId": "264a0688-c7d7-4e6c-ba5b-f99442e8d511"
      },
      "outputs": [
        {
          "output_type": "execute_result",
          "data": {
            "text/plain": [
              "array([ 0. ,  0.1,  0.2,  0.3,  0.4,  0.5,  0.6,  0.7,  0.8,  0.9,  1. ,\n",
              "        1.1,  1.2,  1.3,  1.4,  1.5,  1.6,  1.7,  1.8,  1.9,  2. ,  2.1,\n",
              "        2.2,  2.3,  2.4,  2.5,  2.6,  2.7,  2.8,  2.9,  3. ,  3.1,  3.2,\n",
              "        3.3,  3.4,  3.5,  3.6,  3.7,  3.8,  3.9,  4. ,  4.1,  4.2,  4.3,\n",
              "        4.4,  4.5,  4.6,  4.7,  4.8,  4.9,  5. ,  5.1,  5.2,  5.3,  5.4,\n",
              "        5.5,  5.6,  5.7,  5.8,  5.9,  6. ,  6.1,  6.2,  6.3,  6.4,  6.5,\n",
              "        6.6,  6.7,  6.8,  6.9,  7. ,  7.1,  7.2,  7.3,  7.4,  7.5,  7.6,\n",
              "        7.7,  7.8,  7.9,  8. ,  8.1,  8.2,  8.3,  8.4,  8.5,  8.6,  8.7,\n",
              "        8.8,  8.9,  9. ,  9.1,  9.2,  9.3,  9.4,  9.5,  9.6,  9.7,  9.8,\n",
              "        9.9, 10. ])"
            ]
          },
          "metadata": {},
          "execution_count": 39
        }
      ],
      "source": [
        "n = 101\n",
        "p = 0\n",
        "q = 10\n",
        "x = np.zeros(101)\n",
        "delx = (q-p)/(n-1)\n",
        "x[0] = p\n",
        "x[n-1]=q\n",
        "\n",
        "t = np.arange(0,50,0.5)\n",
        "delt = 0.5\n",
        "\n",
        "for i in range (0,len(x)-1):\n",
        "    x[i+1] = x[i] + delx\n",
        "x"
      ]
    },
    {
      "cell_type": "code",
      "execution_count": null,
      "metadata": {
        "colab": {
          "base_uri": "https://localhost:8080/"
        },
        "id": "so1rK5c1T04Y",
        "outputId": "ee037ce9-abe6-4503-fa85-64d42b8e9ea2"
      },
      "outputs": [
        {
          "output_type": "execute_result",
          "data": {
            "text/plain": [
              "array([[ 0. ,  0. ,  0. , ...,  0. ,  0. ,  0. ],\n",
              "       [ 0.6,  0. ,  0. , ...,  0. ,  0. ,  0. ],\n",
              "       [ 1.2,  0. ,  0. , ...,  0. ,  0. ,  0. ],\n",
              "       ...,\n",
              "       [58.8,  0. ,  0. , ...,  0. ,  0. ,  0. ],\n",
              "       [59.4,  0. ,  0. , ...,  0. ,  0. ,  0. ],\n",
              "       [60. ,  0. ,  0. , ...,  0. ,  0. ,  0. ]])"
            ]
          },
          "metadata": {},
          "execution_count": 40
        }
      ],
      "source": [
        "u = np.zeros(len(t)*len(x)).reshape(len(x),len(t))\n",
        "\n",
        "def fn_v(x):\n",
        "    return x*x\n",
        "\n",
        "for i in range (0,len(x)):\n",
        "    u[i][0] = 6*x[i]\n",
        "u"
      ]
    },
    {
      "cell_type": "code",
      "execution_count": null,
      "metadata": {
        "colab": {
          "base_uri": "https://localhost:8080/"
        },
        "id": "UYRVpaiJT04Z",
        "outputId": "b99e1d0d-8f0c-43a1-ed67-6449f1efc794"
      },
      "outputs": [
        {
          "output_type": "execute_result",
          "data": {
            "text/plain": [
              "array([[ 0.00000000e+000,  0.00000000e+000,  0.00000000e+000, ...,\n",
              "         0.00000000e+000,  0.00000000e+000,  0.00000000e+000],\n",
              "       [ 6.00000000e-001,  5.70000000e-001,  5.44500000e-001, ...,\n",
              "        -1.43780200e+007, -1.72536390e+007, -2.07043827e+007],\n",
              "       [ 1.20000000e+000,  1.08000000e+000,  9.90000000e-001, ...,\n",
              "        -3.79410741e+015, -5.50145577e+015, -7.97711090e+015],\n",
              "       ...,\n",
              "       [ 5.88000000e+001, -2.29320000e+002,  2.32054200e+003, ...,\n",
              "         2.17765221e+262,  1.07299784e+265,  5.28657613e+267],\n",
              "       [ 5.94000000e+001, -2.34630000e+002, -1.44618062e+005, ...,\n",
              "        -6.56667681e+260, -3.22456665e+263, -1.58342345e+266],\n",
              "       [ 6.00000000e+001,  0.00000000e+000,  0.00000000e+000, ...,\n",
              "         0.00000000e+000,  0.00000000e+000,  0.00000000e+000]])"
            ]
          },
          "metadata": {},
          "execution_count": 44
        }
      ],
      "source": [
        "for i in range (0,len(x)-1):\n",
        "    for j in range (0,len(t)-1):\n",
        "        u[i][j+1] = u[i][j] - fn_v(x[i])*(delt/delx)*( (60 if i == len(x)-2 else u[i+1][j]) - u[i][j])\n",
        "u"
      ]
    },
    {
      "cell_type": "code",
      "execution_count": null,
      "metadata": {
        "scrolled": false,
        "colab": {
          "base_uri": "https://localhost:8080/",
          "height": 276
        },
        "id": "fkvAHc1AT04a",
        "outputId": "c4f29c06-b475-420d-f0b8-3c64a8ea9790"
      },
      "outputs": [
        {
          "output_type": "display_data",
          "data": {
            "text/plain": [
              "<Figure size 432x288 with 1 Axes>"
            ],
            "image/png": "[encoded data removed]"
          },
          "metadata": {
            "needs_background": "light"
          }
        }
      ],
      "source": [
        "plt.plot(t, u[45])\n",
        "plt.show()"
      ]
    },
    {
      "cell_type": "markdown",
      "metadata": {
        "id": "g_y0ZrU-T04b"
      },
      "source": [
        "## Problem 2"
      ]
    },
    {
      "cell_type": "code",
      "execution_count": null,
      "metadata": {
        "colab": {
          "base_uri": "https://localhost:8080/"
        },
        "id": "wjwd6H0XT04b",
        "outputId": "68062d48-2265-4682-e20a-69c0fc40dcdc"
      },
      "outputs": [
        {
          "output_type": "execute_result",
          "data": {
            "text/plain": [
              "array([0.  , 0.05, 0.1 , 0.15, 0.2 , 0.25, 0.3 , 0.35, 0.4 , 0.45, 0.5 ,\n",
              "       0.55, 0.6 , 0.65, 0.7 , 0.75, 0.8 , 0.85, 0.9 , 0.95, 1.  , 1.05,\n",
              "       1.1 , 1.15, 1.2 , 1.25, 1.3 , 1.35, 1.4 , 1.45, 1.5 , 1.55, 1.6 ,\n",
              "       1.65, 1.7 , 1.75, 1.8 , 1.85, 1.9 , 1.95, 2.  , 2.05, 2.1 , 2.15,\n",
              "       2.2 , 2.25, 2.3 , 2.35, 2.4 , 2.45, 2.5 , 2.55, 2.6 , 2.65, 2.7 ,\n",
              "       2.75, 2.8 , 2.85, 2.9 , 2.95, 3.  , 3.05, 3.1 , 3.15, 3.2 , 3.25,\n",
              "       3.3 , 3.35, 3.4 , 3.45, 3.5 , 3.55, 3.6 , 3.65, 3.7 , 3.75, 3.8 ,\n",
              "       3.85, 3.9 , 3.95, 4.  , 4.05, 4.1 , 4.15, 4.2 , 4.25, 4.3 , 4.35,\n",
              "       4.4 , 4.45, 4.5 , 4.55, 4.6 , 4.65, 4.7 , 4.75, 4.8 , 4.85, 4.9 ,\n",
              "       4.95, 5.  ])"
            ]
          },
          "metadata": {},
          "execution_count": 23
        }
      ],
      "source": [
        "n = 101\n",
        "p = 0\n",
        "q = 5\n",
        "x = np.zeros(101)\n",
        "delx = (q-p)/(n-1)\n",
        "x[0] = p\n",
        "x[n-1]=q\n",
        "\n",
        "t = np.arange(0,50,0.5)\n",
        "delt = 0.5\n",
        "\n",
        "for i in range (0,len(x)-1):\n",
        "    x[i+1] = x[i] + delx\n",
        "x"
      ]
    },
    {
      "cell_type": "code",
      "execution_count": null,
      "metadata": {
        "colab": {
          "base_uri": "https://localhost:8080/"
        },
        "id": "J6gl87-fT04c",
        "outputId": "8d3d7481-18c1-497d-8e9f-241e848a7aef"
      },
      "outputs": [
        {
          "output_type": "execute_result",
          "data": {
            "text/plain": [
              "array([[2., 0., 0., ..., 0., 0., 0.],\n",
              "       [2., 0., 0., ..., 0., 0., 0.],\n",
              "       [2., 0., 0., ..., 0., 0., 0.],\n",
              "       ...,\n",
              "       [2., 0., 0., ..., 0., 0., 0.],\n",
              "       [2., 0., 0., ..., 0., 0., 0.],\n",
              "       [2., 0., 0., ..., 0., 0., 0.]])"
            ]
          },
          "metadata": {},
          "execution_count": 24
        }
      ],
      "source": [
        "u = np.zeros(len(t)*len(x)).reshape(len(x),len(t))\n",
        "\n",
        "def fn_x(x):\n",
        "    return x**2 - 2*x\n",
        "\n",
        "for i in range (0,len(x)):\n",
        "    u[i][0] = 2\n",
        "u"
      ]
    },
    {
      "cell_type": "code",
      "execution_count": null,
      "metadata": {
        "colab": {
          "base_uri": "https://localhost:8080/"
        },
        "id": "IRlMgSo0T04d",
        "outputId": "50885374-82d2-4a5d-9be2-3a8d7050fcca"
      },
      "outputs": [
        {
          "output_type": "stream",
          "name": "stderr",
          "text": [
            "<ipython-input-25-16fc17f6c5da>:3: RuntimeWarning: overflow encountered in double_scalars\n",
            "  u[i][j+1] = u[i][j] - u[i][j]*(delt/delx)*(u[i+1][j] - u[i][j]) + fn_x(x[i])*delt\n"
          ]
        },
        {
          "output_type": "execute_result",
          "data": {
            "text/plain": [
              "array([[  2.        ,   2.        ,  42.        , ...,          inf,\n",
              "                 inf,          inf],\n",
              "       [  2.        ,   1.95125   ,  39.97626563, ...,          inf,\n",
              "                 inf,          inf],\n",
              "       [  2.        ,   1.905     ,  38.10025   , ...,          inf,\n",
              "                 inf,          inf],\n",
              "       ...,\n",
              "       [  2.        ,   9.105     , 845.22025   , ...,          inf,\n",
              "                 inf,          inf],\n",
              "       [  2.        ,   9.30125   , 881.73501562, ...,          inf,\n",
              "                 inf,          inf],\n",
              "       [  2.        ,   0.        ,   0.        , ...,   0.        ,\n",
              "          0.        ,   0.        ]])"
            ]
          },
          "metadata": {},
          "execution_count": 25
        }
      ],
      "source": [
        "for i in range (0,len(x)-1):\n",
        "    for j in range (0,len(t)-1):\n",
        "        u[i][j+1] = u[i][j] - u[i][j]*(delt/delx)*(u[i+1][j] - u[i][j]) + fn_x(x[i])*delt\n",
        "u"
      ]
    },
    {
      "cell_type": "code",
      "execution_count": null,
      "metadata": {
        "colab": {
          "base_uri": "https://localhost:8080/",
          "height": 276
        },
        "id": "tUyw65vaT04d",
        "outputId": "43d998ac-6e6b-4d60-dc80-ab6fd36d7c40"
      },
      "outputs": [
        {
          "output_type": "display_data",
          "data": {
            "text/plain": [
              "<Figure size 432x288 with 1 Axes>"
            ],
            "image/png": "[encoded data removed]"
          },
          "metadata": {
            "needs_background": "light"
          }
        }
      ],
      "source": [
        "plt.plot(t, u[1])\n",
        "plt.show()"
      ]
    }
  ],
  "metadata": {
    "anaconda-cloud": {},
    "celltoolbar": "Raw Cell Format",
    "kernelspec": {
      "display_name": "Python [default]",
      "language": "python",
      "name": "python3"
    },
    "language_info": {
      "codemirror_mode": {
        "name": "ipython",
        "version": 3
      },
      "file_extension": ".py",
      "mimetype": "text/x-python",
      "name": "python",
      "nbconvert_exporter": "python",
      "pygments_lexer": "ipython3",
      "version": "3.5.2"
    },
    "colab": {
      "provenance": []
    }
  },
  "nbformat": 4,
  "nbformat_minor": 0
}