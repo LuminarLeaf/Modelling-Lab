{
 "cells": [
  {
   "cell_type": "code",
   "execution_count": null,
   "id": "be127b0c-d3a8-4929-a802-fed0624d1f5e",
   "metadata": {
    "tags": []
   },
   "outputs": [],
   "source": [
    "import numpy as np\n",
    "import matplotlib.pyplot as plt\n",
    "\n",
    "h = 0.001\n",
    "n0 = 3*10**5\n",
    "lam = 0.05\n",
    "t = 100\n",
    "\n",
    "def f(lam, n):\n",
    "    return lam*n\n",
    "\n",
    "i = 0\n",
    "n = n0\n",
    "n_val = []\n",
    "time = []\n",
    "while(i < t):\n",
    "    n += h*f(lam, n)\n",
    "    i += h\n",
    "    n_val.append(n)\n",
    "    time.append(i)\n",
    "\n",
    "plt.plot(time, n_val)\n",
    "# plt.axes().set_ylim(bottom=0)\n",
    "plt.xlabel('time')\n",
    "plt.ylabel('population')\n",
    "plt.show()"
   ]
  },
  {
   "cell_type": "code",
   "execution_count": null,
   "id": "9843b590-b17c-470e-85cf-ac43de76a7ca",
   "metadata": {},
   "outputs": [],
   "source": []
  }
 ],
 "metadata": {
  "kernelspec": {
   "display_name": "Python 3 (ipykernel)",
   "language": "python",
   "name": "python3"
  },
  "language_info": {
   "codemirror_mode": {
    "name": "ipython",
    "version": 3
   },
   "file_extension": ".py",
   "mimetype": "text/x-python",
   "name": "python",
   "nbconvert_exporter": "python",
   "pygments_lexer": "ipython3",
   "version": "3.11.0"
  }
 },
 "nbformat": 4,
 "nbformat_minor": 5
}
